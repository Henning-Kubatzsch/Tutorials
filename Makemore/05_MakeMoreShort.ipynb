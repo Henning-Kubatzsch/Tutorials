{
  "nbformat": 4,
  "nbformat_minor": 0,
  "metadata": {
    "colab": {
      "provenance": [],
      "collapsed_sections": [
        "KlfSAwmXyxDz",
        "wR1aczUTzjOy",
        "z9gF5xdke1uw",
        "-VDdM-NjjH59",
        "wiHtg377xGpA",
        "I-eGyJwR6epg",
        "hZWRU1uv60O2",
        "HS9686T78OMu",
        "NJjzr_PH82Hp",
        "M7LV6nwu9fqR",
        "QlUa-m3aQoYo",
        "A4tu79eJ98be",
        "2FwhRj0p-OUm",
        "I1DG8K82or2C",
        "QLzUxUaxozbA",
        "-o7UD5pEq0KG",
        "8pJO75AS3z_L",
        "biilljjb8ob4",
        "3W8oGLqP9yWC",
        "NsL-FCwB_kfV",
        "BiW_52G1DEmj",
        "_baepyDCZvhe",
        "DJcMhh6ciiuZ"
      ],
      "toc_visible": true,
      "authorship_tag": "ABX9TyOZQtwtdWwIN6huJ++/yQhf",
      "include_colab_link": true
    },
    "kernelspec": {
      "name": "python3",
      "display_name": "Python 3"
    },
    "language_info": {
      "name": "python"
    }
  },
  "cells": [
    {
      "cell_type": "markdown",
      "metadata": {
        "id": "view-in-github",
        "colab_type": "text"
      },
      "source": [
        "<a href=\"https://colab.research.google.com/github/Henning-Kubatzsch/Tutorials/blob/main/Makemore/05_MakeMoreShort.ipynb\" target=\"_parent\"><img src=\"https://colab.research.google.com/assets/colab-badge.svg\" alt=\"Open In Colab\"/></a>"
      ]
    },
    {
      "cell_type": "markdown",
      "source": [
        "# Makemore-05\n"
      ],
      "metadata": {
        "id": "GkNwv6nIZWrk"
      }
    },
    {
      "cell_type": "markdown",
      "source": [
        "**WaveNet-Inspired Model in PyTorch**\n",
        "\n",
        "In this notebook, we extend the 2-layer MLP from before into a deeper, tree-structured model inspired by **WaveNet (2016)**. While we don't yet use dilated convolutions, we mimic the hierarchical architecture to capture longer context.\n",
        "\n",
        "**Key Objectives:**\n",
        "\n",
        "* Refactor code using `torch.nn` modules and containers\n",
        "* Learn the practicalities of model building in PyTorch (e.g. shape tracking, debugging, batch normalization issues)\n",
        "* Implement and train a deeper model with `block_size=8`\n",
        "\n",
        "**Steps Covered:**\n",
        "\n",
        "* Code cleanup and learning rate visualization\n",
        "* Modularizing the model using `torch.nn`\n",
        "* Building and training a WaveNet-like deep architecture\n",
        "* Fixing a `BatchNorm1d` bug and re-training\n",
        "* Scaling the model and evaluating its performance\n",
        "* Laying the groundwork for **dilated causal convolutions** (not yet implemented)\n",
        "\n",
        "**Focus:**\n",
        "Understanding PyTorch's model building blocks and the real-world development loop—iteration, experimentation, and debugging.\n",
        "\n"
      ],
      "metadata": {
        "id": "yeZu_ZwYaLPE"
      }
    },
    {
      "cell_type": "markdown",
      "source": [
        "# Initialize Dataset"
      ],
      "metadata": {
        "id": "KlfSAwmXyxDz"
      }
    },
    {
      "cell_type": "code",
      "execution_count": null,
      "metadata": {
        "id": "Klo_9FAuxyxn"
      },
      "outputs": [],
      "source": [
        "import torch\n",
        "import torch.nn.functional as F\n",
        "import matplotlib.pyplot as plt # for making figures\n",
        "%matplotlib inline"
      ]
    },
    {
      "cell_type": "code",
      "source": [
        "# read in all words\n",
        "!wget https://raw.githubusercontent.com/karpathy/makemore/master/names.txt -O names.txt\n",
        "words = open('names.txt').read().splitlines()\n",
        "words[:8]"
      ],
      "metadata": {
        "id": "QSsh28Wjy77L",
        "colab": {
          "base_uri": "https://localhost:8080/"
        },
        "outputId": "e544ee15-cb7c-4d6b-b3c4-7fadabb92f2d"
      },
      "execution_count": null,
      "outputs": [
        {
          "output_type": "stream",
          "name": "stdout",
          "text": [
            "--2025-06-04 14:50:05--  https://raw.githubusercontent.com/karpathy/makemore/master/names.txt\n",
            "Resolving raw.githubusercontent.com (raw.githubusercontent.com)... 185.199.108.133, 185.199.109.133, 185.199.110.133, ...\n",
            "Connecting to raw.githubusercontent.com (raw.githubusercontent.com)|185.199.108.133|:443... connected.\n",
            "HTTP request sent, awaiting response... 200 OK\n",
            "Length: 228145 (223K) [text/plain]\n",
            "Saving to: ‘names.txt’\n",
            "\n",
            "\rnames.txt             0%[                    ]       0  --.-KB/s               \rnames.txt           100%[===================>] 222.80K  --.-KB/s    in 0.04s   \n",
            "\n",
            "2025-06-04 14:50:05 (6.04 MB/s) - ‘names.txt’ saved [228145/228145]\n",
            "\n"
          ]
        },
        {
          "output_type": "execute_result",
          "data": {
            "text/plain": [
              "['emma', 'olivia', 'ava', 'isabella', 'sophia', 'charlotte', 'mia', 'amelia']"
            ]
          },
          "metadata": {},
          "execution_count": 2
        }
      ]
    },
    {
      "cell_type": "code",
      "source": [
        "# build the vocabulary of characters and mappings to/from integers\n",
        "\n",
        "chars = sorted(list(set(''.join(words))))\n",
        "stoi = {s:i+1 for i,s in enumerate(chars)}\n",
        "stoi['.']=0\n",
        "itos = {i:s for s,i in stoi.items()}\n",
        "vocab_size = len(itos)\n",
        "print(itos)\n",
        "print(vocab_size)"
      ],
      "metadata": {
        "id": "hpR-GxZZzGDZ",
        "colab": {
          "base_uri": "https://localhost:8080/"
        },
        "outputId": "7d2de0af-cf96-441e-9703-fc7793fc026e"
      },
      "execution_count": null,
      "outputs": [
        {
          "output_type": "stream",
          "name": "stdout",
          "text": [
            "{1: 'a', 2: 'b', 3: 'c', 4: 'd', 5: 'e', 6: 'f', 7: 'g', 8: 'h', 9: 'i', 10: 'j', 11: 'k', 12: 'l', 13: 'm', 14: 'n', 15: 'o', 16: 'p', 17: 'q', 18: 'r', 19: 's', 20: 't', 21: 'u', 22: 'v', 23: 'w', 24: 'x', 25: 'y', 26: 'z', 0: '.'}\n",
            "27\n"
          ]
        }
      ]
    },
    {
      "cell_type": "code",
      "execution_count": null,
      "metadata": {
        "id": "8pRiRwIxeg6T"
      },
      "outputs": [],
      "source": []
    },
    {
      "cell_type": "markdown",
      "source": [
        "# Generate Dataset - using Splits"
      ],
      "metadata": {
        "id": "wR1aczUTzjOy"
      }
    },
    {
      "cell_type": "code",
      "source": [
        "# built dataset\n",
        "block_size = 3\n",
        "\n",
        "def build_dataset(words):\n",
        "  X, Y = [], []\n",
        "\n",
        "  for w in words:\n",
        "    #print(w)\n",
        "    context = [0] * block_size\n",
        "    for ch in w + '.':\n",
        "      ix = stoi[ch]\n",
        "      X.append(context)\n",
        "      Y.append(ix)\n",
        "      #print(''.join(itos[i] for i in context), '--->', itos[ix])\n",
        "      context = context[1:] + [ix] # crop and append\n",
        "\n",
        "  X = torch.tensor(X)\n",
        "  Y = torch.tensor(Y)\n",
        "  print(X.shape, Y.shape)\n",
        "  return X, Y\n",
        "\n",
        "import random\n",
        "random.seed(42)\n",
        "random.shuffle(words)\n",
        "n1 = int(0.8 * len(words))\n",
        "n2 = int(0.9 * len(words))\n",
        "\n",
        "#print(len(words[:n1]))\n",
        "#print(len(words[n1:n2]))\n",
        "#print(len(words[n2:]))\n",
        "\n",
        "\n",
        "Xtr, Ytr = build_dataset(words[:n1])      # 80%\n",
        "Xdev, Ydev = build_dataset(words[n1:n2])  # 10%\n",
        "Xte, Yte = build_dataset(words[n2:])      # 10%"
      ],
      "metadata": {
        "id": "NjIjqFaMzhIr",
        "colab": {
          "base_uri": "https://localhost:8080/"
        },
        "outputId": "adff42f7-7144-4723-c15d-9064fa0c5fc4"
      },
      "execution_count": null,
      "outputs": [
        {
          "output_type": "stream",
          "name": "stdout",
          "text": [
            "torch.Size([182625, 3]) torch.Size([182625])\n",
            "torch.Size([22655, 3]) torch.Size([22655])\n",
            "torch.Size([22866, 3]) torch.Size([22866])\n"
          ]
        }
      ]
    },
    {
      "cell_type": "code",
      "source": [
        "for x,y in zip(Xtr[:20], Ytr[:20]):\n",
        "  print(''.join(itos[ix.item()] for ix in x), '--->', itos[y.item()])"
      ],
      "metadata": {
        "id": "5oJLyj1qzstV",
        "colab": {
          "base_uri": "https://localhost:8080/"
        },
        "outputId": "89800296-2411-4116-a244-536f2daff461"
      },
      "execution_count": null,
      "outputs": [
        {
          "output_type": "stream",
          "name": "stdout",
          "text": [
            "... ---> y\n",
            "..y ---> u\n",
            ".yu ---> h\n",
            "yuh ---> e\n",
            "uhe ---> n\n",
            "hen ---> g\n",
            "eng ---> .\n",
            "... ---> d\n",
            "..d ---> i\n",
            ".di ---> o\n",
            "dio ---> n\n",
            "ion ---> d\n",
            "ond ---> r\n",
            "ndr ---> e\n",
            "dre ---> .\n",
            "... ---> x\n",
            "..x ---> a\n",
            ".xa ---> v\n",
            "xav ---> i\n",
            "avi ---> e\n"
          ]
        }
      ]
    },
    {
      "cell_type": "markdown",
      "source": [
        "# Generate Dataset - using Splits"
      ],
      "metadata": {
        "id": "z9gF5xdke1uw"
      }
    },
    {
      "cell_type": "code",
      "source": [
        "# built dataset\n",
        "block_size = 3\n",
        "\n",
        "def build_dataset(words):\n",
        "  X, Y = [], []\n",
        "\n",
        "  for w in words:\n",
        "    #print(w)\n",
        "    context = [0] * block_size\n",
        "    for ch in w + '.':\n",
        "      ix = stoi[ch]\n",
        "      X.append(context)\n",
        "      Y.append(ix)\n",
        "      #print(''.join(itos[i] for i in context), '--->', itos[ix])\n",
        "      context = context[1:] + [ix] # crop and append\n",
        "\n",
        "  X = torch.tensor(X)\n",
        "  Y = torch.tensor(Y)\n",
        "  print(X.shape, Y.shape)\n",
        "  return X, Y\n",
        "\n",
        "import random\n",
        "random.seed(42)\n",
        "random.shuffle(words)\n",
        "n1 = int(0.8 * len(words))\n",
        "n2 = int(0.9 * len(words))\n",
        "\n",
        "#print(len(words[:n1]))\n",
        "#print(len(words[n1:n2]))\n",
        "#print(len(words[n2:]))\n",
        "\n",
        "\n",
        "Xtr, Ytr = build_dataset(words[:n1])      # 80%\n",
        "Xdev, Ydev = build_dataset(words[n1:n2])  # 10%\n",
        "Xte, Yte = build_dataset(words[n2:])      # 10%"
      ],
      "metadata": {
        "colab": {
          "base_uri": "https://localhost:8080/"
        },
        "outputId": "5ee4aa96-1e42-4ff1-8775-7afb4ba7b076",
        "id": "-XQCXhAOe1ux"
      },
      "execution_count": null,
      "outputs": [
        {
          "output_type": "stream",
          "name": "stdout",
          "text": [
            "torch.Size([182580, 3]) torch.Size([182580])\n",
            "torch.Size([22767, 3]) torch.Size([22767])\n",
            "torch.Size([22799, 3]) torch.Size([22799])\n"
          ]
        }
      ]
    },
    {
      "cell_type": "code",
      "source": [
        "for x,y in zip(Xtr[:20], Ytr[:20]):\n",
        "  print(''.join(itos[ix.item()] for ix in x), '--->', itos[y.item()])"
      ],
      "metadata": {
        "colab": {
          "base_uri": "https://localhost:8080/"
        },
        "outputId": "79abd529-3c0c-4e79-bb78-ef3aeebac091",
        "id": "yiOzqQ0ie1ux"
      },
      "execution_count": null,
      "outputs": [
        {
          "output_type": "stream",
          "name": "stdout",
          "text": [
            "... ---> e\n",
            "..e ---> b\n",
            ".eb ---> r\n",
            "ebr ---> i\n",
            "bri ---> m\n",
            "rim ---> a\n",
            "ima ---> .\n",
            "... ---> h\n",
            "..h ---> i\n",
            ".hi ---> l\n",
            "hil ---> t\n",
            "ilt ---> o\n",
            "lto ---> n\n",
            "ton ---> .\n",
            "... ---> j\n",
            "..j ---> h\n",
            ".jh ---> e\n",
            "jhe ---> n\n",
            "hen ---> e\n",
            "ene ---> .\n"
          ]
        }
      ]
    },
    {
      "cell_type": "markdown",
      "source": [
        "# Improving our Representation/ Model Structure\n"
      ],
      "metadata": {
        "id": "-VDdM-NjjH59"
      }
    },
    {
      "cell_type": "markdown",
      "source": [
        "- every Layer gets a Module\n",
        "- the Model is represented by initilizing a Sequential Module\n",
        "- mean over every 100 losses for better representation\n",
        "- forward pass gets much simpler\n",
        "- in initilization when setting the weights for initialization we now call\n",
        "```\n",
        "model.layers[-1],weight *= 0.1\n",
        "```"
      ],
      "metadata": {
        "id": "QBvhT4JrjPhO"
      }
    },
    {
      "cell_type": "markdown",
      "source": [
        "## Improved Layer Representation (Make every Layer a Module) + Setting Hyperparameters"
      ],
      "metadata": {
        "id": "wiHtg377xGpA"
      }
    },
    {
      "cell_type": "code",
      "source": [
        "# basically the same as in course 3\n",
        "# -----------------------------------------------------------------------------------\n",
        "\n",
        "class Linear:\n",
        "\n",
        "  def __init__(self, fan_in, fan_out, bias=True):\n",
        "    self.weight = torch.randn((fan_in, fan_out)) /fan_in**0.5\n",
        "    self.bias = torch.zeros(fan_out) if bias else None\n",
        "\n",
        "  def __call__(self, x):\n",
        "    self.out = x @ self.weight\n",
        "    if self.bias is not None:\n",
        "      self.out += self.bias\n",
        "    return self.out\n",
        "\n",
        "  def parameters(self):\n",
        "    return [self.weight] + ([] if self.bias is None else [self.bias])\n",
        "\n",
        "# -----------------------------------------------------------------------------------\n",
        "\n",
        "class BatchNorm1d:\n",
        "\n",
        "  def __init__(self, dim, eps=1e-5, momentum=0.1):\n",
        "    self.eps = eps\n",
        "    self.momentum = momentum\n",
        "    self.training = True\n",
        "    # parameters (trained with backprop)\n",
        "    self.gamma = torch.ones(dim)\n",
        "    self.beta = torch.zeros(dim)\n",
        "    # buffers (trained with a running 'momentum update')\n",
        "    self.running_mean = torch.zeros(dim)\n",
        "    self.running_var = torch.ones(dim)\n",
        "\n",
        "  def __call__(self, x):\n",
        "    # calculate the forward pass\n",
        "    if self.training:\n",
        "      xmean = x.mean(0, keepdim=True) # batch mean\n",
        "      xvar = x.var(0, keepdim=True) # batch variance\n",
        "    else:\n",
        "      xmean = self.running_mean\n",
        "      xvar = self.running_var\n",
        "    xhat = (x - xmean) / torch.sqrt(xvar + self.eps) # normalize to unit variance\n",
        "    self.out = self.gamma * xhat + self.beta\n",
        "    # update the buffers\n",
        "    if self.training:\n",
        "      with torch.no_grad():\n",
        "        self.running_mean = (1 - self.momentum) * self.running_mean + self.momentum * xmean\n",
        "        self.running_var = (1 - self.momentum) * self.running_var + self.momentum * xvar\n",
        "    return self.out\n",
        "\n",
        "  def parameters(self):\n",
        "    return [self.gamma, self.beta]\n",
        "\n",
        "# -----------------------------------------------------------------------------------\n",
        "\n",
        "class Tanh:\n",
        "  def __call__(self, x):\n",
        "    self.out = torch.tanh(x)\n",
        "    return self.out\n",
        "  def parameters(self):\n",
        "    return []\n",
        "\n",
        "# -----------------------------------------------------------------------------------\n",
        "\n",
        "class Embedding:\n",
        "\n",
        "  def __init__(self, num_embeddings, embedding_dim):\n",
        "    self.weight = torch.randn((num_embeddings, embedding_dim))\n",
        "\n",
        "  def __call__(self, IX):\n",
        "    self.out = self.weight[IX]\n",
        "    return self.out\n",
        "\n",
        "  def parameters(self):\n",
        "    return [self.weight]\n",
        "\n",
        "# -----------------------------------------------------------------------------------\n",
        "\n",
        "class Flatten:\n",
        "\n",
        "  def __call__(self, x):\n",
        "    self.out = x.view(x.shape[0], -1)\n",
        "    return self.out\n",
        "\n",
        "  def parameters(self):\n",
        "    return []\n",
        "\n",
        "# -----------------------------------------------------------------------------------\n",
        "\n",
        "class Sequential:\n",
        "\n",
        "  def __init__(self, layers):\n",
        "    self.layers = layers\n",
        "\n",
        "  def __call__(self, x):\n",
        "    for layer in self.layers:\n",
        "      x = layer(x)\n",
        "    self.out = x\n",
        "    return self.out\n",
        "\n",
        "  def parameters(self):\n",
        "    # get parameters of all layers and stretch them out into one list\n",
        "    return [p for layer in self.layers for p in layer.parameters()]\n"
      ],
      "metadata": {
        "id": "SKRxVo080sp1"
      },
      "execution_count": null,
      "outputs": []
    },
    {
      "cell_type": "markdown",
      "source": [
        "## Improved Initilization"
      ],
      "metadata": {
        "id": "THoQ6rMBy5Ls"
      }
    },
    {
      "cell_type": "markdown",
      "source": [
        "Now we have a Model as initialized as a Sequential Modlule"
      ],
      "metadata": {
        "id": "syk65FUnhQrV"
      }
    },
    {
      "cell_type": "code",
      "source": [
        "n_embd = 10 # the dimensionality of the character embedding vectors\n",
        "n_hidden = 200 # the number of neurons in the hidden layer of the MLP\n",
        "\n",
        "# now our layer are getting a model wich is a modul\n",
        "model = Sequential([\n",
        "    Embedding(vocab_size, n_embd),\n",
        "    Flatten(),\n",
        "    Linear(n_embd * block_size, n_hidden, bias = False),\n",
        "    BatchNorm1d(n_hidden),\n",
        "    Tanh(),\n",
        "    Linear(n_hidden, vocab_size),\n",
        "])\n",
        "\n",
        "# parameter init\n",
        "with torch.no_grad():\n",
        "  model.layers[-1].weight *= 0.1 # last layer make less confident\n",
        "\n",
        "parameters = model.parameters()\n",
        "print(sum(p.nelement() for p in parameters)) # number of parameters in total\n",
        "for p in parameters:\n",
        "  p.requires_grad = True"
      ],
      "metadata": {
        "id": "wFUl5xyjy8Kz",
        "colab": {
          "base_uri": "https://localhost:8080/"
        },
        "outputId": "b20860b2-2113-4c90-994d-7be86dd52224"
      },
      "execution_count": null,
      "outputs": [
        {
          "output_type": "stream",
          "name": "stdout",
          "text": [
            "12097\n"
          ]
        }
      ]
    },
    {
      "cell_type": "markdown",
      "source": [
        "## Improved Forward Pass"
      ],
      "metadata": {
        "id": "x-SDSfrozOdp"
      }
    },
    {
      "cell_type": "markdown",
      "source": [
        "Now we do not list every layer for the forward pass but call\n",
        "```\n",
        "logits = model(Xb)\n",
        "```\n",
        "\n",
        "Also for better representation of the loss we calculate a mean over every 100 losses\n",
        "\n",
        "```\n",
        "plt.plot(torch.tensor(lossi).view(-1, 100).mean(1).detach().numpy())\n",
        "```"
      ],
      "metadata": {
        "id": "IkLIC2hdhmML"
      }
    },
    {
      "cell_type": "code",
      "source": [
        "# same optimiuzation as last time\n",
        "\n",
        "max_steps = 200 #0000\n",
        "batch_size = 32\n",
        "lossi = []\n",
        "\n",
        "for i in range(max_steps):\n",
        "\n",
        "  # mini-batch construction\n",
        "  ix = torch.randint(0, Xtr.shape[0], (batch_size, ))\n",
        "  Xb, Yb = Xtr[ix], Ytr[ix]  # batch X,Y\n",
        "\n",
        "  # forward pass\n",
        "  x = Xb\n",
        "  logits = model(Xb)\n",
        "  loss = F.cross_entropy(logits, Yb) # loss function\n",
        "\n",
        "  # backward pass\n",
        "  for p in parameters:\n",
        "    p.grad = None\n",
        "  loss.backward()\n",
        "\n",
        "  #update: simple SGD\n",
        "  lr = 0.1 if i < 150000 else 0.01 # step learning rate decay\n",
        "  for p in parameters:\n",
        "    p.data += -lr * p.grad\n",
        "\n",
        "  # tracks stats\n",
        "  if i%10000 == 0: # print every once in a while\n",
        "    print(f'{i:7d}/{max_steps:7d}: {loss.item():.4f}')\n",
        "  lossi.append(loss.log10().item())\n"
      ],
      "metadata": {
        "colab": {
          "base_uri": "https://localhost:8080/"
        },
        "id": "2bk-FxcFzOIx",
        "outputId": "a8b40564-5d24-4166-8aa5-6092c6c893f9"
      },
      "execution_count": null,
      "outputs": [
        {
          "output_type": "stream",
          "name": "stdout",
          "text": [
            "      0/    200: 3.3315\n"
          ]
        }
      ]
    },
    {
      "cell_type": "code",
      "source": [
        "\n",
        "plt.plot(torch.tensor(lossi).view(-1, 100).mean(1).detach().numpy())"
      ],
      "metadata": {
        "id": "A9sNGCfY4cMx",
        "colab": {
          "base_uri": "https://localhost:8080/",
          "height": 448
        },
        "outputId": "266a9a85-632e-4435-fe1a-9488a53261ae"
      },
      "execution_count": null,
      "outputs": [
        {
          "output_type": "execute_result",
          "data": {
            "text/plain": [
              "[<matplotlib.lines.Line2D at 0x7cf612b61e10>]"
            ]
          },
          "metadata": {},
          "execution_count": 11
        },
        {
          "output_type": "display_data",
          "data": {
            "text/plain": [
              "<Figure size 640x480 with 1 Axes>"
            ],
            "image/png": "[encoded data removed]"
          },
          "metadata": {}
        }
      ]
    },
    {
      "cell_type": "markdown",
      "source": [
        "## Improved Evaluation"
      ],
      "metadata": {
        "id": "I-eGyJwR6epg"
      }
    },
    {
      "cell_type": "markdown",
      "source": [
        "Don't forget for evaluating to  put all layers in not Training mode:\n",
        "```\n",
        "for layer in model.layers:\n",
        "  layer.training = False\n",
        "```"
      ],
      "metadata": {
        "id": "x2aNNQgsiZGT"
      }
    },
    {
      "cell_type": "code",
      "source": [
        "for layer in model.layers:\n",
        "  layer.training = False"
      ],
      "metadata": {
        "id": "my3Nx3SZiZj1"
      },
      "execution_count": null,
      "outputs": []
    },
    {
      "cell_type": "code",
      "source": [
        "# evaluate the loss\n",
        "@torch.no_grad() # this decorator disables gradient tracking inside pytorch\n",
        "def split_loss(split):\n",
        "  x,y = {\n",
        "      'train': {Xtr, Ytr},\n",
        "      'val': {Xdev, Ydev},\n",
        "      'test': {Xte, Yte},\n",
        "  }[split]\n",
        "  logits = model(x)\n",
        "  loss = F.cross_entropy(logits, y)\n",
        "  print(split, loss.item())\n",
        "\n",
        "split_loss('train')\n",
        "split_loss('test')"
      ],
      "metadata": {
        "colab": {
          "base_uri": "https://localhost:8080/"
        },
        "id": "RUEwwQul6Coa",
        "outputId": "ca8593c0-9ae3-49b3-92c7-38750d4e3e98"
      },
      "execution_count": null,
      "outputs": [
        {
          "output_type": "stream",
          "name": "stdout",
          "text": [
            "train 2.611018180847168\n",
            "test 2.617330312728882\n"
          ]
        }
      ]
    },
    {
      "cell_type": "markdown",
      "source": [
        "## Improved Sampling"
      ],
      "metadata": {
        "id": "hZWRU1uv60O2"
      }
    },
    {
      "cell_type": "code",
      "source": [
        "for _ in range(20):\n",
        "  out = []\n",
        "  context = [0] * block_size # initialize with all ...\n",
        "  while True:\n",
        "    # forward pass the neural net\n",
        "    logits = model(torch.tensor([context]))\n",
        "    probs = F.softmax(logits, dim = 1)\n",
        "    # sample form the distribution\n",
        "    ix = torch.multinomial(probs, num_samples = 1).item()\n",
        "    # shift the context window and track the samples\n",
        "    context = context[1:] + [ix]\n",
        "    out.append(ix)\n",
        "    # if we sample the special '.' token, break\n",
        "    if ix == 0:\n",
        "      break\n",
        "  print(''.join(itos[i] for i in out)) # decode and print the generated word"
      ],
      "metadata": {
        "colab": {
          "base_uri": "https://localhost:8080/"
        },
        "id": "2fbSkoYG62Mb",
        "outputId": "cd0cbbb4-4d56-4b64-8918-236d27ec5138"
      },
      "execution_count": null,
      "outputs": [
        {
          "output_type": "stream",
          "name": "stdout",
          "text": [
            "iaoain.\n",
            "batxlaxzematalon.\n",
            "yyl.\n",
            "bagei.\n",
            "mdye.\n",
            "aser.\n",
            "avkiun.\n",
            "ppkjrztanggiarh.\n",
            "zoa.\n",
            "myr.\n",
            "fgan.\n",
            "kezca.\n",
            "phon.\n",
            "fiaqsoana.\n",
            "dospazaila.\n",
            "brie.\n",
            "yi.\n",
            "uabe.\n",
            "slaisanjha.\n",
            "qvh.\n"
          ]
        }
      ]
    },
    {
      "cell_type": "markdown",
      "source": [
        "#"
      ],
      "metadata": {
        "id": "V3Oe5cG0oV1A"
      }
    },
    {
      "cell_type": "markdown",
      "source": [
        "# Building a Wavenet - Dialated Causal Convolutional Layers/ Implementing a Hierarchical Scheme - Changing block_size\n"
      ],
      "metadata": {
        "id": "HS9686T78OMu"
      }
    },
    {
      "cell_type": "markdown",
      "source": [
        "## Evaluate"
      ],
      "metadata": {
        "id": "iul2k5Bez3A7"
      }
    },
    {
      "cell_type": "markdown",
      "source": [
        "How a WaveNet works:\n",
        "\n",
        "- Start by combining two characters into a bigram.\n",
        "\n",
        "- Then, combine two bigrams into a larger unit.\n",
        "\n",
        "- Repeat this hierarchical fusion to build increasingly abstract representations."
      ],
      "metadata": {
        "id": "DNqY64Hp8b8h"
      }
    },
    {
      "cell_type": "markdown",
      "source": [
        "![Screenshot 2025-05-06 at 16.14.32.png](data:image/png;base64,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)"
      ],
      "metadata": {
        "id": "SwhaWtRl8uk0"
      }
    },
    {
      "cell_type": "markdown",
      "source": [
        "## Initilize Datasets - improved (now 8 character for each block)"
      ],
      "metadata": {
        "id": "NJjzr_PH82Hp"
      }
    },
    {
      "cell_type": "code",
      "source": [
        "# built dataset\n",
        "block_size = 8\n",
        "\n",
        "def build_dataset(words):\n",
        "  X, Y = [], []\n",
        "\n",
        "  for w in words:\n",
        "    #print(w)\n",
        "    context = [0] * block_size\n",
        "    for ch in w + '.':\n",
        "      ix = stoi[ch]\n",
        "      X.append(context)\n",
        "      Y.append(ix)\n",
        "      #print(''.join(itos[i] for i in context), '--->', itos[ix])\n",
        "      context = context[1:] + [ix] # crop and append\n",
        "\n",
        "  X = torch.tensor(X)\n",
        "  Y = torch.tensor(Y)\n",
        "  print(X.shape, Y.shape)\n",
        "  return X, Y\n",
        "\n",
        "import random\n",
        "random.seed(42)\n",
        "random.shuffle(words)\n",
        "n1 = int(0.8 * len(words))\n",
        "n2 = int(0.9 * len(words))\n",
        "\n",
        "\n",
        "Xtr, Ytr = build_dataset(words[:n1])      # 80%\n",
        "Xdev, Ydev = build_dataset(words[n1:n2])  # 10%\n",
        "Xte, Yte = build_dataset(words[n2:])      # 10%"
      ],
      "metadata": {
        "id": "Z1A3TTPW8bVB",
        "colab": {
          "base_uri": "https://localhost:8080/"
        },
        "outputId": "1a33fba7-e764-4d67-ac02-5cdeead197ed"
      },
      "execution_count": null,
      "outputs": [
        {
          "output_type": "stream",
          "name": "stdout",
          "text": [
            "torch.Size([182437, 8]) torch.Size([182437])\n",
            "torch.Size([22781, 8]) torch.Size([22781])\n",
            "torch.Size([22928, 8]) torch.Size([22928])\n"
          ]
        }
      ]
    },
    {
      "cell_type": "code",
      "source": [
        "for x,y in zip(Xtr[:20], Ytr[:20]):\n",
        "  print(''.join(itos[ix.item()] for ix in x), '--->', itos[y.item()])"
      ],
      "metadata": {
        "id": "WwhY0Ndr8NV_",
        "colab": {
          "base_uri": "https://localhost:8080/"
        },
        "outputId": "3b676fc6-2609-4d9e-c587-69ef5230fc9a"
      },
      "execution_count": null,
      "outputs": [
        {
          "output_type": "stream",
          "name": "stdout",
          "text": [
            "........ ---> t\n",
            ".......t ---> a\n",
            "......ta ---> u\n",
            ".....tau ---> r\n",
            "....taur ---> e\n",
            "...taure ---> n\n",
            "..tauren ---> .\n",
            "........ ---> s\n",
            ".......s ---> u\n",
            "......su ---> l\n",
            ".....sul ---> e\n",
            "....sule ---> m\n",
            "...sulem ---> a\n",
            "..sulema ---> n\n",
            ".suleman ---> .\n",
            "........ ---> z\n",
            ".......z ---> e\n",
            "......ze ---> r\n",
            ".....zer ---> e\n",
            "....zere ---> n\n"
          ]
        }
      ]
    },
    {
      "cell_type": "markdown",
      "source": [
        "## Initialize Modules"
      ],
      "metadata": {
        "id": "M7LV6nwu9fqR"
      }
    },
    {
      "cell_type": "code",
      "source": [
        "# basically the same as in course 3\n",
        "# -----------------------------------------------------------------------------------\n",
        "\n",
        "class Linear:\n",
        "\n",
        "  def __init__(self, fan_in, fan_out, bias=True):\n",
        "    self.weight = torch.randn((fan_in, fan_out)) /fan_in**0.5\n",
        "    self.bias = torch.zeros(fan_out) if bias else None\n",
        "\n",
        "  def __call__(self, x):\n",
        "    self.out = x @ self.weight\n",
        "    if self.bias is not None:\n",
        "      self.out += self.bias\n",
        "    return self.out\n",
        "\n",
        "  def parameters(self):\n",
        "    return [self.weight] + ([] if self.bias is None else [self.bias])\n",
        "\n",
        "# -----------------------------------------------------------------------------------\n",
        "\n",
        "class BatchNorm1d:\n",
        "\n",
        "  def __init__(self, dim, eps=1e-5, momentum=0.1):\n",
        "    self.eps = eps\n",
        "    self.momentum = momentum\n",
        "    self.training = True\n",
        "    # parameters (trained with backprop)\n",
        "    self.gamma = torch.ones(dim)\n",
        "    self.beta = torch.zeros(dim)\n",
        "    # buffers (trained with a running 'momentum update')\n",
        "    self.running_mean = torch.zeros(dim)\n",
        "    self.running_var = torch.ones(dim)\n",
        "\n",
        "  def __call__(self, x):\n",
        "    # calculate the forward pass\n",
        "    if self.training:\n",
        "      xmean = x.mean(0, keepdim=True) # batch mean\n",
        "      xvar = x.var(0, keepdim=True) # batch variance\n",
        "    else:\n",
        "      xmean = self.running_mean\n",
        "      xvar = self.running_var\n",
        "    xhat = (x - xmean) / torch.sqrt(xvar + self.eps) # normalize to unit variance\n",
        "    self.out = self.gamma * xhat + self.beta\n",
        "    # update the buffers\n",
        "    if self.training:\n",
        "      with torch.no_grad():\n",
        "        self.running_mean = (1 - self.momentum) * self.running_mean + self.momentum * xmean\n",
        "        self.running_var = (1 - self.momentum) * self.running_var + self.momentum * xvar\n",
        "    return self.out\n",
        "\n",
        "  def parameters(self):\n",
        "    return [self.gamma, self.beta]\n",
        "\n",
        "# -----------------------------------------------------------------------------------\n",
        "\n",
        "class Tanh:\n",
        "  def __call__(self, x):\n",
        "    self.out = torch.tanh(x)\n",
        "    return self.out\n",
        "  def parameters(self):\n",
        "    return []\n",
        "\n",
        "# -----------------------------------------------------------------------------------\n",
        "\n",
        "class Embedding:\n",
        "\n",
        "  def __init__(self, num_embeddings, embedding_dim):\n",
        "    self.weight = torch.randn((num_embeddings, embedding_dim))\n",
        "\n",
        "  def __call__(self, IX):\n",
        "    self.out = self.weight[IX]\n",
        "    return self.out\n",
        "\n",
        "  def parameters(self):\n",
        "    return [self.weight]\n",
        "\n",
        "# -----------------------------------------------------------------------------------\n",
        "\n",
        "class Flatten:\n",
        "\n",
        "  def __call__(self, x):\n",
        "    self.out = x.view(x.shape[0], -1)\n",
        "    return self.out\n",
        "\n",
        "  def parameters(self):\n",
        "    return []\n",
        "\n",
        "# -----------------------------------------------------------------------------------\n",
        "\n",
        "class Sequential:\n",
        "\n",
        "  def __init__(self, layers):\n",
        "    self.layers = layers\n",
        "\n",
        "  def __call__(self, x):\n",
        "    for layer in self.layers:\n",
        "      x = layer(x)\n",
        "    self.out = x\n",
        "    return self.out\n",
        "\n",
        "  def parameters(self):\n",
        "    # get parameters of all layers and stretch them out into one list\n",
        "    return [p for layer in self.layers for p in layer.parameters()]\n"
      ],
      "metadata": {
        "id": "cg4AfJpI9fqR"
      },
      "execution_count": null,
      "outputs": []
    },
    {
      "cell_type": "markdown",
      "source": [
        "## Update on Flatten Module"
      ],
      "metadata": {
        "id": "QlUa-m3aQoYo"
      }
    },
    {
      "cell_type": "markdown",
      "source": [
        "### Going deeper direction Batch Dimensions"
      ],
      "metadata": {
        "id": "gmAqJSNFmM28"
      }
    },
    {
      "cell_type": "markdown",
      "source": [
        "#### On initilization - Flatten is not working the way we want it to"
      ],
      "metadata": {
        "id": "A4tu79eJ98be"
      }
    },
    {
      "cell_type": "code",
      "source": [
        "n_embd = 10 # the dimensionality of the character embedding vectors\n",
        "n_hidden = 64 # the number of neurons in the hidden layer of the MLP\n",
        "\n",
        "# now our layer are getting a model wich is a modul\n",
        "model = Sequential([\n",
        "    Embedding(vocab_size, n_embd),\n",
        "    Flatten(),\n",
        "    Linear(n_embd * block_size, n_hidden, bias = False),\n",
        "    BatchNorm1d(n_hidden),\n",
        "    Tanh(),\n",
        "    Linear(n_hidden, vocab_size),\n",
        "])\n",
        "\n",
        "# parameter init\n",
        "with torch.no_grad():\n",
        "  model.layers[-1].weight *= 0.1 # last layer make less confident\n",
        "\n",
        "parameters = model.parameters()\n",
        "print(sum(p.nelement() for p in parameters)) # number of parameters in total\n",
        "for p in parameters:\n",
        "  p.requires_grad = True"
      ],
      "metadata": {
        "colab": {
          "base_uri": "https://localhost:8080/"
        },
        "id": "lJ9NPnAU9ruF",
        "outputId": "1ec80718-fcdd-4b9b-8b2c-718ef2c9fb06"
      },
      "execution_count": null,
      "outputs": [
        {
          "output_type": "stream",
          "name": "stdout",
          "text": [
            "7273\n"
          ]
        }
      ]
    },
    {
      "cell_type": "markdown",
      "source": [
        "#### Handlling Dimensions with Pytorch"
      ],
      "metadata": {
        "id": "2FwhRj0p-OUm"
      }
    },
    {
      "cell_type": "markdown",
      "source": [
        "We can easily reshape the input dimensions to group characters into bigrams and pass them to the layers.\n"
      ],
      "metadata": {
        "id": "fLtEVszCmcJ6"
      }
    },
    {
      "cell_type": "code",
      "source": [
        "ix = torch.randint(0, Xtr.shape[0], (4,)) # batch: 1 dim, 4 examples\n",
        "Xb, Yb = Xtr[ix], Ytr[ix] # Xb: (4,8), Yb: (4,0)\n",
        "logits = model(Xb)\n",
        "Xb"
      ],
      "metadata": {
        "colab": {
          "base_uri": "https://localhost:8080/"
        },
        "id": "tHNxpXGHmfl-",
        "outputId": "bef1e129-d63c-4e63-f8a6-d1c828f56f65"
      },
      "execution_count": null,
      "outputs": [
        {
          "output_type": "execute_result",
          "data": {
            "text/plain": [
              "tensor([[ 0,  0,  0,  0,  0,  1, 12,  1],\n",
              "        [ 0,  0,  0,  0,  0, 12,  5,  9],\n",
              "        [ 0,  0,  3,  1, 20,  1, 12,  5],\n",
              "        [14, 14,  1, 12,  5,  9, 19,  5]])"
            ]
          },
          "metadata": {},
          "execution_count": 23
        }
      ]
    },
    {
      "cell_type": "markdown",
      "source": [
        "There are this many zeros because, when encoding a name, we always start with a block of 8 zeros and then slide the window forward through the name."
      ],
      "metadata": {
        "id": "AHCfrGj3oMIa"
      }
    },
    {
      "cell_type": "markdown",
      "source": [
        "#### View the shape of every layer"
      ],
      "metadata": {
        "id": "I1DG8K82or2C"
      }
    },
    {
      "cell_type": "code",
      "source": [
        "print('output Embedding Layer: ',model.layers[0].out.shape)\n",
        "print('output Flatten Layer: ',model.layers[1].out.shape)\n",
        "print('output Linear Layer: ',model.layers[2].out.shape)\n"
      ],
      "metadata": {
        "colab": {
          "base_uri": "https://localhost:8080/"
        },
        "id": "xkxBaBxpouaa",
        "outputId": "a6da3daa-413c-4769-ae86-184a9a11cec3"
      },
      "execution_count": null,
      "outputs": [
        {
          "output_type": "stream",
          "name": "stdout",
          "text": [
            "output Embedding Layer:  torch.Size([4, 8, 10])\n",
            "output Flatten Layer:  torch.Size([4, 80])\n",
            "output Linear Layer:  torch.Size([4, 64])\n"
          ]
        }
      ]
    },
    {
      "cell_type": "markdown",
      "source": [
        "#### Get a feeling how Matrix Multiplication operand @ works"
      ],
      "metadata": {
        "id": "QLzUxUaxozbA"
      }
    },
    {
      "cell_type": "markdown",
      "source": [
        "...starting with an basic example"
      ],
      "metadata": {
        "id": "4SVnC__WqADF"
      }
    },
    {
      "cell_type": "code",
      "source": [
        "(torch.randn(4, 80) @ torch.randn(80, 200) + torch.randn(200)).shape"
      ],
      "metadata": {
        "colab": {
          "base_uri": "https://localhost:8080/"
        },
        "id": "uQPeL0-Zp6Oo",
        "outputId": "1c2fa16b-7a16-462d-d4a0-5968ab8ab6c1"
      },
      "execution_count": null,
      "outputs": [
        {
          "output_type": "execute_result",
          "data": {
            "text/plain": [
              "torch.Size([4, 200])"
            ]
          },
          "metadata": {},
          "execution_count": 25
        }
      ]
    },
    {
      "cell_type": "markdown",
      "source": [
        "If there are more than two dimensions (e.g., shape (4, 5, 80)), the @ operator performs matrix multiplication on the last two dimensions for each batch."
      ],
      "metadata": {
        "id": "vBxS3o8lqKNh"
      }
    },
    {
      "cell_type": "code",
      "source": [
        "(torch.randn(4,5,80) @ torch.randn(80, 200) + torch.randn(200)).shape"
      ],
      "metadata": {
        "colab": {
          "base_uri": "https://localhost:8080/"
        },
        "id": "TP64OLIQqIGJ",
        "outputId": "e3547ffa-8dd3-4350-e526-05ea8564fa10"
      },
      "execution_count": null,
      "outputs": [
        {
          "output_type": "execute_result",
          "data": {
            "text/plain": [
              "torch.Size([4, 5, 200])"
            ]
          },
          "metadata": {},
          "execution_count": 26
        }
      ]
    },
    {
      "cell_type": "code",
      "source": [
        "(torch.randn(2,3,4,4,5,80) @ torch.randn(80, 200) + torch.randn(200)).shape"
      ],
      "metadata": {
        "colab": {
          "base_uri": "https://localhost:8080/"
        },
        "id": "99cJwLmpquK9",
        "outputId": "470bcbc6-d083-4dd2-f28b-d6fcfc808611"
      },
      "execution_count": null,
      "outputs": [
        {
          "output_type": "execute_result",
          "data": {
            "text/plain": [
              "torch.Size([2, 3, 4, 4, 5, 200])"
            ]
          },
          "metadata": {},
          "execution_count": 27
        }
      ]
    },
    {
      "cell_type": "markdown",
      "source": [
        "#### Matrix Multiplication in the Context of Batch Dimensions"
      ],
      "metadata": {
        "id": "-o7UD5pEq0KG"
      }
    },
    {
      "cell_type": "markdown",
      "source": [
        "In the following example we calculate 16 vectors in parallel"
      ],
      "metadata": {
        "id": "eV0yG7pNsYrY"
      }
    },
    {
      "cell_type": "code",
      "source": [
        "(torch.randn(4, 4, 20) @ torch.randn(20, 200) + torch.randn(200)).shape"
      ],
      "metadata": {
        "colab": {
          "base_uri": "https://localhost:8080/"
        },
        "id": "fiAOg426sbOk",
        "outputId": "d47f5318-ae06-4642-c963-c6a8359b8602"
      },
      "execution_count": null,
      "outputs": [
        {
          "output_type": "execute_result",
          "data": {
            "text/plain": [
              "torch.Size([4, 4, 200])"
            ]
          },
          "metadata": {},
          "execution_count": 28
        }
      ]
    },
    {
      "cell_type": "markdown",
      "source": [
        "shape (4,4,20) means:\n",
        "  - 4 samples\n",
        "  - 4 positions\n",
        "  - 20 dimensional embedding\n",
        "\n",
        "...means that we process 16 20-dimensional vectors in parallel"
      ],
      "metadata": {
        "id": "E4H7NmBksc55"
      }
    },
    {
      "cell_type": "markdown",
      "source": [
        "More Examples of how to work with Dimensions in Pytorch"
      ],
      "metadata": {
        "id": "Ohe0n0qBuSAk"
      }
    },
    {
      "cell_type": "code",
      "source": [
        "e = torch.randint(0, 10,(4,8,10))\n",
        "#e = torch.randn(4,8,10)\n",
        "\n",
        "e_2 = e[:, ::2, :]\n",
        "e_12 = e[:, 1::2, :]\n",
        "explicit = torch.cat([e_2, e_12], dim = 2)"
      ],
      "metadata": {
        "id": "IdWflzVHuYI2"
      },
      "execution_count": null,
      "outputs": []
    },
    {
      "cell_type": "code",
      "source": [
        "#print(e)\n",
        "#print(explicit)\n",
        "(e.view(4,4,20) == explicit).all()"
      ],
      "metadata": {
        "colab": {
          "base_uri": "https://localhost:8080/"
        },
        "id": "4BDPanR5ucWz",
        "outputId": "ee1045c6-af97-4ab3-f7ca-a65627d51d8d"
      },
      "execution_count": null,
      "outputs": [
        {
          "output_type": "execute_result",
          "data": {
            "text/plain": [
              "tensor(True)"
            ]
          },
          "metadata": {},
          "execution_count": 30
        }
      ]
    },
    {
      "cell_type": "code",
      "source": [
        "e.view(e.shape[0], -1).shape"
      ],
      "metadata": {
        "colab": {
          "base_uri": "https://localhost:8080/"
        },
        "id": "6UfLTaeI17Xq",
        "outputId": "fd827b4b-3fbb-4dd6-f089-467d38ef2827"
      },
      "execution_count": null,
      "outputs": [
        {
          "output_type": "execute_result",
          "data": {
            "text/plain": [
              "torch.Size([4, 80])"
            ]
          },
          "metadata": {},
          "execution_count": 31
        }
      ]
    },
    {
      "cell_type": "markdown",
      "source": [
        "#### New FlattenConsecutive Module"
      ],
      "metadata": {
        "id": "8pJO75AS3z_L"
      }
    },
    {
      "cell_type": "markdown",
      "source": [
        "before:\n",
        "```\n",
        "class Flatten:\n",
        "\n",
        "  def __call__(self, x):\n",
        "    self.out = x.view(x.shape[0], -1)\n",
        "    return self.out\n",
        "\n",
        "  def parameters(self):\n",
        "    return []\n",
        "```"
      ],
      "metadata": {
        "id": "69zddoaklNJj"
      }
    },
    {
      "cell_type": "code",
      "source": [
        "class FlattenConsecutive: # there is also a Flatten Pytorch Module but they are nor equal\n",
        "\n",
        "  def __init__(self, n):\n",
        "    self.n = n\n",
        "\n",
        "  def __call__(self, x):\n",
        "    B, T, C = x.shape\n",
        "    x = x.view(B, T//self.n, C * self.n)\n",
        "    if x.shape[1] == 1:\n",
        "      x = x.squeeze(1) # squeezes out all dimension that are one; (A x 1 X B x 1 x C) -> (A x B x 1 x C)\n",
        "\n",
        "    self.out = x\n",
        "    return self.out\n",
        "\n",
        "  def parameters(self):\n",
        "    return []"
      ],
      "metadata": {
        "id": "D6VCwvc5QnRa"
      },
      "execution_count": null,
      "outputs": []
    },
    {
      "cell_type": "markdown",
      "source": [
        "## Initialization - Updated Linear Layer/ FlattenConsecutive Initilization"
      ],
      "metadata": {
        "id": "XReOTFCb9nAy"
      }
    },
    {
      "cell_type": "code",
      "source": [
        "n_embd = 10 # the dimensionality of the character embedding vectors\n",
        "n_hidden = 68 # the number of neurons in the hidden layer of the MLP\n",
        "\n",
        "# now our layer are getting a model wich is a modul\n",
        "model = Sequential([\n",
        "    Embedding(vocab_size, n_embd),\n",
        "    # Layer 1\n",
        "    FlattenConsecutive(2),\n",
        "    Linear(n_embd * 2, n_hidden, bias = False),\n",
        "    BatchNorm1d(n_hidden),\n",
        "    # Layer 2\n",
        "    FlattenConsecutive(2),\n",
        "    Linear(n_hidden * 2, n_hidden, bias = False),\n",
        "    BatchNorm1d(n_hidden),\n",
        "    # Layer 3\n",
        "    FlattenConsecutive(2),\n",
        "    Linear(n_hidden * 2, n_hidden, bias = False),\n",
        "    BatchNorm1d(n_hidden),\n",
        "    Tanh(),\n",
        "    Linear(n_hidden, vocab_size),\n",
        "])\n",
        "\n",
        "# parameter init\n",
        "with torch.no_grad():\n",
        "  model.layers[-1].weight *= 0.1 # last layer make less confident\n",
        "\n",
        "parameters = model.parameters()\n",
        "print(sum(p.nelement() for p in parameters)) # number of parameters in total\n",
        "for p in parameters:\n",
        "  p.requires_grad = True"
      ],
      "metadata": {
        "id": "S4l8nz1H9pxH",
        "colab": {
          "base_uri": "https://localhost:8080/"
        },
        "outputId": "0491c6cc-6657-40db-d770-a7996c0776ab"
      },
      "execution_count": null,
      "outputs": [
        {
          "output_type": "stream",
          "name": "stdout",
          "text": [
            "22397\n"
          ]
        }
      ]
    },
    {
      "cell_type": "markdown",
      "source": [
        "#### Here we need one forward pass, else we can't inspect layer.out"
      ],
      "metadata": {
        "id": "biilljjb8ob4"
      }
    },
    {
      "cell_type": "code",
      "source": [
        "ix = torch.randint(0, Xtr.shape[0], (batch_size, ))\n",
        "Xb, Yb = Xtr[ix], Ytr[ix]  # batch X,Y\n",
        "\n",
        "# forward pass\n",
        "x = Xb\n",
        "logits = model(Xb)\n",
        "loss = F.cross_entropy(logits, Yb) # loss function\n",
        "\n",
        "# backward pass\n",
        "for p in parameters:\n",
        "  p.grad = None\n",
        "loss.backward()\n"
      ],
      "metadata": {
        "id": "JLBwzKdA84BV"
      },
      "execution_count": null,
      "outputs": []
    },
    {
      "cell_type": "markdown",
      "source": [
        "#### Now compare the new Initialization with the shapes of every layer"
      ],
      "metadata": {
        "id": "TwfKrs624p-3"
      }
    },
    {
      "cell_type": "markdown",
      "source": [
        "We made changes in:\n",
        "- FlattenConsecutive\n",
        "  - now we define the dimension that is flattend\n",
        "- also the Linear Layer\n",
        "  - must adapt to the 2*input\n"
      ],
      "metadata": {
        "id": "RMQ-XzI7-qAU"
      }
    },
    {
      "cell_type": "code",
      "source": [
        "for layer in model.layers[2:]:\n",
        "  print(layer.__class__.__name__, ': ', tuple(layer.out.shape))"
      ],
      "metadata": {
        "colab": {
          "base_uri": "https://localhost:8080/"
        },
        "id": "sHQJ5oSh6n33",
        "outputId": "d0dcd73e-3664-461d-c8da-9aa94c1112b8"
      },
      "execution_count": null,
      "outputs": [
        {
          "output_type": "stream",
          "name": "stdout",
          "text": [
            "Linear :  (32, 4, 68)\n",
            "BatchNorm1d :  (32, 4, 68)\n",
            "FlattenConsecutive :  (32, 2, 136)\n",
            "Linear :  (32, 2, 68)\n",
            "BatchNorm1d :  (32, 2, 68)\n",
            "FlattenConsecutive :  (32, 136)\n",
            "Linear :  (32, 68)\n",
            "BatchNorm1d :  (32, 68)\n",
            "Tanh :  (32, 68)\n",
            "Linear :  (32, 27)\n"
          ]
        }
      ]
    },
    {
      "cell_type": "markdown",
      "source": [
        "## Forward Pass"
      ],
      "metadata": {
        "id": "3W8oGLqP9yWC"
      }
    },
    {
      "cell_type": "code",
      "source": [
        "# same optimiuzation as last time\n",
        "\n",
        "max_steps = 200 #200000\n",
        "max_steps = 20000\n",
        "batch_size = 32\n",
        "lossi = []\n",
        "\n",
        "for i in range(max_steps):\n",
        "\n",
        "  # mini-batch construction\n",
        "  ix = torch.randint(0, Xtr.shape[0], (batch_size, ))\n",
        "  Xb, Yb = Xtr[ix], Ytr[ix]  # batch X,Y\n",
        "\n",
        "  # forward pass\n",
        "  x = Xb\n",
        "  logits = model(Xb)\n",
        "  loss = F.cross_entropy(logits, Yb) # loss function\n",
        "\n",
        "  # backward pass\n",
        "  for p in parameters:\n",
        "    p.grad = None\n",
        "  loss.backward()\n",
        "\n",
        "  #update: simple SGD\n",
        "  lr = 0.1 if i < 150000 else 0.01 # step learning rate decay\n",
        "  for p in parameters:\n",
        "    p.data += -lr * p.grad\n",
        "\n",
        "  # tracks stats\n",
        "  if i%10000 == 0: # print every once in a while\n",
        "    print(f'{i:7d}/{max_steps:7d}: {loss.item():.4f}')\n",
        "  lossi.append(loss.log10().item())\n",
        "  break"
      ],
      "metadata": {
        "id": "RiYnewDE-Bl9",
        "colab": {
          "base_uri": "https://localhost:8080/"
        },
        "outputId": "353c2d3b-f2f8-4a69-9fcd-687fa2e67b7f"
      },
      "execution_count": null,
      "outputs": [
        {
          "output_type": "stream",
          "name": "stdout",
          "text": [
            "      0/  20000: 3.2875\n"
          ]
        }
      ]
    },
    {
      "cell_type": "markdown",
      "source": [
        "## Evaluate"
      ],
      "metadata": {
        "id": "NsL-FCwB_kfV"
      }
    },
    {
      "cell_type": "code",
      "source": [
        "for layer in model.layers:\n",
        "  layer.training = False"
      ],
      "metadata": {
        "id": "bitNgNx3_rI9"
      },
      "execution_count": null,
      "outputs": []
    },
    {
      "cell_type": "code",
      "source": [
        "# evaluate the loss\n",
        "@torch.no_grad() # this decorator disables gradient tracking inside pytorch\n",
        "def split_loss(split):\n",
        "  x,y = {\n",
        "      'train': {Xtr, Ytr},\n",
        "      'val': {Xdev, Ydev},\n",
        "      'test': {Xte, Yte},\n",
        "  }[split]\n",
        "  logits = model(x)\n",
        "  loss = F.cross_entropy(logits, y)\n",
        "  print(split, loss.item())\n",
        "\n",
        "split_loss('train')\n",
        "split_loss('test')"
      ],
      "metadata": {
        "colab": {
          "base_uri": "https://localhost:8080/"
        },
        "id": "a7iCXTrj_uNJ",
        "outputId": "eae35f74-4b0c-4e3a-a97e-513ad7a81845"
      },
      "execution_count": null,
      "outputs": [
        {
          "output_type": "stream",
          "name": "stdout",
          "text": [
            "train 3.289177656173706\n",
            "test 3.2891087532043457\n"
          ]
        }
      ]
    },
    {
      "cell_type": "markdown",
      "source": [
        "Performance Log\n",
        "\n",
        "- Original (3-char context, 200 hidden neurons, 12K params): train 2.058, val 2.105\n",
        "- Context increased 3 → 8 (22K params): train 1.918, val 2.027\n",
        "- Flat → hierarchical (22K params): train 1.941, val 2.029\n",
        "\n",
        "So far, switching to hierarchical evaluation hasn’t improved performance.\n",
        "There might be a bug in our Batch Normalization layer.\n",
        "\n",
        "\n",
        "\n",
        "\n",
        "\n",
        "\n",
        "\n",
        "\n"
      ],
      "metadata": {
        "id": "Iep-MnUZADcJ"
      }
    },
    {
      "cell_type": "markdown",
      "source": [
        "## Sample form the Model"
      ],
      "metadata": {
        "id": "EAzaQFEo0Vp_"
      }
    },
    {
      "cell_type": "code",
      "source": [
        "for _ in range(20):\n",
        "  out = []\n",
        "  context = [0] * block_size # initialize with all ...\n",
        "  while True:\n",
        "    # forward pass the neural net\n",
        "    logits = model(torch.tensor([context]))\n",
        "    probs = F.softmax(logits, dim = 1)\n",
        "    # sample form the distribution\n",
        "    ix = torch.multinomial(probs, num_samples = 1).item()\n",
        "    # shift the context window and track the samples\n",
        "    context = context[1:] + [ix]\n",
        "    out.append(ix)\n",
        "    # if we sample the special '.' token, break\n",
        "    if ix == 0:\n",
        "      break\n",
        "  print(''.join(itos[i] for i in out)) # decode and print the generated word"
      ],
      "metadata": {
        "colab": {
          "base_uri": "https://localhost:8080/"
        },
        "id": "eeGUsYhgvE3J",
        "outputId": "43427fe6-8670-4af3-fe70-56dd4af61659"
      },
      "execution_count": null,
      "outputs": [
        {
          "output_type": "stream",
          "name": "stdout",
          "text": [
            "gimlm.\n",
            "ztzhiaoxzlkloqsdlqzkdbr.\n",
            "aabsfztkypeizfooklnhiyffansgpegkxtlbkksgdxsycxyxcpqtsyscpcuaynbzjyqvclhxr.\n",
            "zhhndzmlhlozryt.\n",
            "qgqjikoo.\n",
            "fglidkjow.\n",
            "bifch.\n",
            "gkdhmbqaahbszbdktyzmjxrfynieos.\n",
            "ugcvwgpahlwxpgpbmzwimesyczogutehelfcgqyuhohhwyiyqwlqpapavlsdivsfiw.\n",
            "kdlxrzfwjjrkorunyntwfljwhiypihhgnmpsfgyrnzqx.\n",
            "iugayomoqmnnkdmjpxmvwjnmyqtryvmwjlmzamzlt.\n",
            "by.\n",
            "jegnezivetiffapantfeszxklv.\n",
            "clbzdswvqqknhmhbbqkorcdcnpvilauqzsrshypesegeraasdvrttjcxbflxpxbqyceyepekak.\n",
            "lyfnmp.\n",
            "zpymjrhduqbooznrubhapoojhmtfvtlzhpnfaofxnwslzfdsafiyvxrkdaidmcwvsxfciulbpkohllnhjjuwkagoabwnahrhytwvwxnzmyfbptaadjvqaqtzpodrcyqdinvyzduub.\n",
            "dae.\n",
            "yedtylfiqfqbdjljhrflroiighnrmwbd.\n",
            "jydwffcaejussrvxonwtyejrpwlgdnovmcdrovjbja.\n",
            "kakikmkzfhxmurbuhztwdbgciuvdusc.\n"
          ]
        }
      ]
    },
    {
      "cell_type": "markdown",
      "source": [
        "# Fixing BatchNorm"
      ],
      "metadata": {
        "id": "OuAr8FsCAdSa"
      }
    },
    {
      "cell_type": "markdown",
      "source": [
        "Look at the way we implemented Batch Normalization\n",
        "-> in the call() method we calculate mean and var over th 0th dimension, but we would need it to be the 2st last dimension\n",
        "\n",
        "```\n",
        "class BatchNorm1d:\n",
        "\n",
        "# ...\n",
        "  def __call__(self, x):\n",
        "    # calculate the forward pass\n",
        "    if self.training:\n",
        "      xmean = x.mean(0, keepdim=True) # batch mean\n",
        "      xvar = x.var(0, keepdim=True) # batch variance\n",
        "  ...\n",
        "```"
      ],
      "metadata": {
        "id": "tqTcwRqZBkbL"
      }
    },
    {
      "cell_type": "code",
      "source": [
        "# what we are doing in code\n",
        "\n",
        "e = torch.randn(32, 4, 68)\n",
        "emean = e.mean(0, keepdim=True) # 1, 4, 68\n",
        "evar = e.var(0, keepdim=True) # 1, 4, 68\n",
        "ehat = (e - emean) / torch.sqrt(evar + 1e-5) # 32, 4, 68\n",
        "emean.shape\n",
        "evar.shape"
      ],
      "metadata": {
        "colab": {
          "base_uri": "https://localhost:8080/"
        },
        "id": "IKKRTOBRBzcz",
        "outputId": "175fa01e-99d8-4ee7-f8d3-c763c67bf127"
      },
      "execution_count": null,
      "outputs": [
        {
          "output_type": "execute_result",
          "data": {
            "text/plain": [
              "torch.Size([1, 4, 68])"
            ]
          },
          "metadata": {},
          "execution_count": 40
        }
      ]
    },
    {
      "cell_type": "code",
      "source": [
        "model.layers[3].running_mean.shape"
      ],
      "metadata": {
        "colab": {
          "base_uri": "https://localhost:8080/"
        },
        "id": "z1tZJ_zFCGhv",
        "outputId": "b34bef71-7da5-422a-e4e3-6b652e5a7616"
      },
      "execution_count": null,
      "outputs": [
        {
          "output_type": "execute_result",
          "data": {
            "text/plain": [
              "torch.Size([1, 4, 68])"
            ]
          },
          "metadata": {},
          "execution_count": 41
        }
      ]
    },
    {
      "cell_type": "markdown",
      "source": [
        "According to the [torch.mean() documentation](https://docs.pytorch.org/docs/stable/generated/torch.mean.html), you can pass either an integer or a tuple of integers to specify the dimension(s) to reduce."
      ],
      "metadata": {
        "id": "yIBUbDJDCMok"
      }
    },
    {
      "cell_type": "code",
      "source": [
        "e = torch.randn(32, 4, 68)\n",
        "emean = e.mean((0,1), keepdim=True) # 1, 1, 68\n",
        "evar = e.var((0,1), keepdim=True) # 1, 1, 68\n",
        "ehat = (e - emean) / torch.sqrt(evar + 1e-5) # 32, 4, 68\n",
        "print(emean.shape)\n",
        "print(evar.shape)\n",
        "print(ehat.shape)"
      ],
      "metadata": {
        "colab": {
          "base_uri": "https://localhost:8080/"
        },
        "id": "iRNg_s8TCmCv",
        "outputId": "1abfa9f8-a066-4515-85b9-60845afed175"
      },
      "execution_count": null,
      "outputs": [
        {
          "output_type": "stream",
          "name": "stdout",
          "text": [
            "torch.Size([1, 1, 68])\n",
            "torch.Size([1, 1, 68])\n",
            "torch.Size([32, 4, 68])\n"
          ]
        }
      ]
    },
    {
      "cell_type": "markdown",
      "source": [
        "## Updated BatchNorm"
      ],
      "metadata": {
        "id": "Pf1IHFt7Cvkv"
      }
    },
    {
      "cell_type": "code",
      "source": [
        "class BatchNorm1d:\n",
        "\n",
        "  def __init__(self, dim, eps=1e-5, momentum=0.1):\n",
        "    self.eps = eps\n",
        "    self.momentum = momentum\n",
        "    self.training = True\n",
        "    # parameters (trained with backprop)\n",
        "    self.gamma = torch.ones(dim)\n",
        "    self.beta = torch.zeros(dim)\n",
        "    # buffers (trained with a running 'momentum update')\n",
        "    self.running_mean = torch.zeros(dim)\n",
        "    self.running_var = torch.ones(dim)\n",
        "\n",
        "  def __call__(self, x):\n",
        "    # calculate the forward pass\n",
        "\n",
        "\n",
        "    if self.training:\n",
        "      if x.ndim == 2:\n",
        "        dim = 0\n",
        "      elif x.ndim == 3:\n",
        "        dim = (0,1)\n",
        "      xmean = x.mean(dim, keepdim=True) # batch mean\n",
        "      xvar = x.var(dim, keepdim=True) # batch variance\n",
        "    else:\n",
        "      xmean = self.running_mean\n",
        "      xvar = self.running_var\n",
        "    xhat = (x - xmean) / torch.sqrt(xvar + self.eps) # normalize to unit variance\n",
        "    self.out = self.gamma * xhat + self.beta\n",
        "    # update the buffers\n",
        "    if self.training:\n",
        "      with torch.no_grad():\n",
        "        self.running_mean = (1 - self.momentum) * self.running_mean + self.momentum * xmean\n",
        "        self.running_var = (1 - self.momentum) * self.running_var + self.momentum * xvar\n",
        "    return self.out\n",
        "\n",
        "  def parameters(self):\n",
        "    return [self.gamma, self.beta]"
      ],
      "metadata": {
        "id": "JIri-TyGCyNu"
      },
      "execution_count": null,
      "outputs": []
    },
    {
      "cell_type": "markdown",
      "source": [
        "## Note that we are getting away from official Pytorch here"
      ],
      "metadata": {
        "id": "BiW_52G1DEmj"
      }
    },
    {
      "cell_type": "markdown",
      "source": [
        "- Checking the input/output shapes in the BatchNorm1d docs:\n",
        "\n",
        "- Input: (N, C) or (N, C, L)\n",
        "\n",
        "  - N = batch size\n",
        "\n",
        "  - C = number of features\n",
        "\n",
        "  - L = sequence length\n",
        "\n",
        "- For (N, C, L), normalization reduces over dimensions 0 and 2.\n",
        "\n",
        "- PyTorch assumes C is the second dimension, but in our case, C is the last dimension, and we may have multiple batch dimensions before it.\n",
        "\n",
        "What we actually expect:\n",
        "Input shape like (N, C) or (N, L, C) instead."
      ],
      "metadata": {
        "id": "cVLPUZYYDNHJ"
      }
    },
    {
      "cell_type": "markdown",
      "source": [
        "# Now let's pump up the Model (Hyperparameters) and Evaluate"
      ],
      "metadata": {
        "id": "txWLMb-RDp9i"
      }
    },
    {
      "cell_type": "markdown",
      "source": [
        "## Hyperparameters"
      ],
      "metadata": {
        "id": "3eIQAa1ED0IY"
      }
    },
    {
      "cell_type": "code",
      "source": [
        "n_embd = 24 # the dimensionality of the character embedding vectors\n",
        "n_hidden = 128 # the number of neurons in the hidden layer of the MLP\n",
        "\n",
        "# now our layer are getting a model wich is a modul\n",
        "model = Sequential([\n",
        "    Embedding(vocab_size, n_embd),\n",
        "    # Layer 1\n",
        "    FlattenConsecutive(2),\n",
        "    Linear(n_embd * 2, n_hidden, bias = False),\n",
        "    BatchNorm1d(n_hidden),\n",
        "    # Layer 2\n",
        "    FlattenConsecutive(2),\n",
        "    Linear(n_hidden * 2, n_hidden, bias = False),\n",
        "    BatchNorm1d(n_hidden),\n",
        "    # Layer 3\n",
        "    FlattenConsecutive(2),\n",
        "    Linear(n_hidden * 2, n_hidden, bias = False),\n",
        "    BatchNorm1d(n_hidden),\n",
        "    Tanh(),\n",
        "    Linear(n_hidden, vocab_size),\n",
        "])\n",
        "\n",
        "# parameter init\n",
        "with torch.no_grad():\n",
        "  model.layers[-1].weight *= 0.1 # last layer make less confident\n",
        "\n",
        "parameters = model.parameters()\n",
        "print(sum(p.nelement() for p in parameters)) # number of parameters in total\n",
        "for p in parameters:\n",
        "  p.requires_grad = True"
      ],
      "metadata": {
        "colab": {
          "base_uri": "https://localhost:8080/"
        },
        "id": "lKf-rQW_Do9d",
        "outputId": "f1457a01-2f19-4356-c910-e6ccc5ea2d0f"
      },
      "execution_count": null,
      "outputs": [
        {
          "output_type": "stream",
          "name": "stdout",
          "text": [
            "76579\n"
          ]
        }
      ]
    },
    {
      "cell_type": "markdown",
      "source": [
        "## Training"
      ],
      "metadata": {
        "id": "GpHLUfoyEGG5"
      }
    },
    {
      "cell_type": "code",
      "source": [
        "# same optimiuzation as last time\n",
        "\n",
        "max_steps = 200 #00000\n",
        "# max_steps = 10000\n",
        "batch_size = 32\n",
        "lossi = []\n",
        "\n",
        "for i in range(max_steps):\n",
        "\n",
        "  # mini-batch construction\n",
        "  ix = torch.randint(0, Xtr.shape[0], (batch_size, ))\n",
        "  Xb, Yb = Xtr[ix], Ytr[ix]  # batch X,Y\n",
        "\n",
        "  # forward pass\n",
        "  x = Xb\n",
        "  logits = model(Xb)\n",
        "  loss = F.cross_entropy(logits, Yb) # loss function\n",
        "\n",
        "  # backward pass\n",
        "  for p in parameters:\n",
        "    p.grad = None\n",
        "  loss.backward()\n",
        "\n",
        "  #update: simple SGD\n",
        "  lr = 0.1 if i < 150000 else 0.01 # step learning rate decay\n",
        "  for p in parameters:\n",
        "    p.data += -lr * p.grad\n",
        "\n",
        "  # tracks stats\n",
        "  if i%10000 == 0: # print every once in a while\n",
        "    print(f'{i:7d}/{max_steps:7d}: {loss.item():.4f}')\n",
        "  lossi.append(loss.log10().item())"
      ],
      "metadata": {
        "colab": {
          "base_uri": "https://localhost:8080/"
        },
        "id": "wFIRpMqyEF0p",
        "outputId": "55e1c855-c80d-4051-ebd6-27d0ec3c5194"
      },
      "execution_count": null,
      "outputs": [
        {
          "output_type": "stream",
          "name": "stdout",
          "text": [
            "      0/    200: 3.2393\n"
          ]
        }
      ]
    },
    {
      "cell_type": "markdown",
      "source": [
        "## Evaluation"
      ],
      "metadata": {
        "id": "PK_3XEIEELos"
      }
    },
    {
      "cell_type": "code",
      "source": [
        "for layer in model.layers:\n",
        "  layer.training = False"
      ],
      "metadata": {
        "id": "2g2JGAnAEVxE"
      },
      "execution_count": null,
      "outputs": []
    },
    {
      "cell_type": "code",
      "source": [
        "# evaluate the loss\n",
        "@torch.no_grad() # this decorator disables gradient tracking inside pytorch\n",
        "def split_loss(split):\n",
        "  x,y = {\n",
        "      'train': {Xtr, Ytr},\n",
        "      'val': {Xdev, Ydev},\n",
        "      'test': {Xte, Yte},\n",
        "  }[split]\n",
        "  logits = model(x)\n",
        "  loss = F.cross_entropy(logits, y)\n",
        "  print(split, loss.item())\n",
        "\n",
        "split_loss('train')\n",
        "split_loss('test')"
      ],
      "metadata": {
        "colab": {
          "base_uri": "https://localhost:8080/"
        },
        "id": "bXd6camnEaFH",
        "outputId": "ab3157ca-c727-4b9a-c609-ee7a2bbe2ce2"
      },
      "execution_count": null,
      "outputs": [
        {
          "output_type": "stream",
          "name": "stdout",
          "text": [
            "train 2.4741735458374023\n",
            "test 2.479973554611206\n"
          ]
        }
      ]
    },
    {
      "cell_type": "markdown",
      "source": [
        "**performance log**\n",
        "- original (3 character context + 200 hidden neurons, 12K params): train 2.058, val 2.105\n",
        "- context: 3 -> 8 (22K params): train 1.918, val 2.027\n",
        "- flat -> hierachical (22K params): train 1.941, val 2.029\n",
        "- fix bug in batchnorm: train: 1.912, val: 2.022\n",
        "- scale up the network: n_embd = 24, n_hidden = 128 (76K params): train 1.769, val 1.993"
      ],
      "metadata": {
        "id": "FSyNFJ6bEhxl"
      }
    },
    {
      "cell_type": "markdown",
      "source": [
        "## Sample from the model"
      ],
      "metadata": {
        "id": "fxSN1IkLEjkq"
      }
    },
    {
      "cell_type": "code",
      "source": [
        "for _ in range(20):\n",
        "  out = []\n",
        "  context = [0] * block_size # initialize with all ...\n",
        "  while True:\n",
        "    # forward pass the neural net\n",
        "    logits = model(torch.tensor([context]))\n",
        "    probs = F.softmax(logits, dim = 1)\n",
        "    # sample form the distribution\n",
        "    ix = torch.multinomial(probs, num_samples = 1).item()\n",
        "    # shift the context window and track the samples\n",
        "    context = context[1:] + [ix]\n",
        "    out.append(ix)\n",
        "    # if we sample the special '.' token, break\n",
        "    if ix == 0:\n",
        "      break\n",
        "  print(''.join(itos[i] for i in out)) # decode and print the generated word"
      ],
      "metadata": {
        "colab": {
          "base_uri": "https://localhost:8080/"
        },
        "id": "0l1MFng7EmVw",
        "outputId": "38455320-61c2-4e33-9349-86933a9a7233"
      },
      "execution_count": null,
      "outputs": [
        {
          "output_type": "stream",
          "name": "stdout",
          "text": [
            "aesyan.\n",
            "mrieanw.\n",
            "ebratsj.\n",
            "aamanny.\n",
            "aarien.\n",
            "kdetta.\n",
            "sylan.\n",
            "meslana.\n",
            "iimanlaele.\n",
            "aaylinn.\n",
            "yemen.\n",
            "tuahele.\n",
            "larae.\n",
            "aolany.\n",
            "zmbren.\n",
            "eeeagee.\n",
            "arken.\n",
            "jeimi.\n",
            "aeyras.\n",
            "acrce.\n"
          ]
        }
      ]
    },
    {
      "cell_type": "markdown",
      "source": [
        "## Disadvantage with bigger Model"
      ],
      "metadata": {
        "id": "C0-0HKshErnt"
      }
    },
    {
      "cell_type": "markdown",
      "source": [
        "- experiments start longer to train\n",
        "- so we are missing a sort of an experimental harness on which we could run a number of experiments\n",
        "- then we could tune this architecture very well"
      ],
      "metadata": {
        "id": "bfh_krs6E0oh"
      }
    },
    {
      "cell_type": "markdown",
      "source": [
        "# What we got so far"
      ],
      "metadata": {
        "id": "_baepyDCZvhe"
      }
    },
    {
      "cell_type": "markdown",
      "source": [
        "* We're continuously decreasing loss on both train and validation sets.\n",
        "* However, our current approach is mostly guess-and-check — which isn’t ideal.\n",
        "* The process becomes more meaningful when we start extracting real insights from the numbers.\n",
        "* One key thing we haven’t implemented yet is the more advanced forward pass described in the WaveNet paper, which includes:\n",
        "\n",
        "  * Gated linear units\n",
        "  * Residual connections\n",
        "  * Skip connections\n"
      ],
      "metadata": {
        "id": "xIDCq3puZ1FT"
      }
    },
    {
      "cell_type": "markdown",
      "source": [
        "## How what we did relates to convolutional neural networks"
      ],
      "metadata": {
        "id": "GAkbeAwTaygo"
      }
    },
    {
      "cell_type": "markdown",
      "source": [
        "* We use convolutions purely for efficiency — they don’t change the model’s logic.\n",
        "* Example: for the name *diondre*\n",
        "\n",
        "  * Previously, we used a Python for-loop to generate 8 inputs (from `........` to `.diondre`), computing logits one by one.\n",
        "  * With convolutional networks, this process runs in parallel within CUDA kernels — the for-loop is effectively hidden inside the convolution.\n"
      ],
      "metadata": {
        "id": "f_vAUTCAa33O"
      }
    },
    {
      "cell_type": "markdown",
      "source": [
        "## Convolutions"
      ],
      "metadata": {
        "id": "Hj3oRwdRcfZj"
      }
    },
    {
      "cell_type": "markdown",
      "source": [
        "* A for-loop applying a small linear filter over an input sequence is conceptually what a convolution does.\n",
        "* In our case, the input space is one-dimensional, and we slide these filters over the input to extract features.\n"
      ],
      "metadata": {
        "id": "nmDQUzfKcf0A"
      }
    },
    {
      "cell_type": "markdown",
      "source": [
        "![Screenshot 2025-05-06 at 16.14.32.png](data:image/png;base64,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)"
      ],
      "metadata": {
        "id": "2PpOJRXhdGbk"
      }
    },
    {
      "cell_type": "markdown",
      "source": [
        "When comparing our work to the image:\n",
        "\n",
        "* What we’ve done so far is represented by the black arrow tree — using several input samples to compute one output.\n",
        "* Convolution allows us to slide this structure (blue dots) across the input and compute all outputs (yellow dots) simultaneously.\n",
        "\n",
        "In our case:\n",
        "\n",
        "```\n",
        "........  --> d  \n",
        ".......d  --> i  \n",
        "......di  --> o  \n",
        ".....dio  --> n  \n",
        "....dion  --> d  \n",
        "...diond  --> r  \n",
        "..diondr  --> e  \n",
        ".diondre  --> .  \n",
        "```\n",
        "\n",
        "This means we can compute all input-output pairs for *diondre* in parallel.\n"
      ],
      "metadata": {
        "id": "8T8FglvoRy5L"
      }
    },
    {
      "cell_type": "markdown",
      "source": [
        "With convolutions, the CUDA kernel can reuse computed data.\n",
        "In a for-loop, each input passes through the layers independently — requiring fresh computation at every step.\n",
        "But with convolutions, the first hidden layer (with dilation = 1) is computed once, and its outputs are shared across all filter windows that need them.\n",
        "\n"
      ],
      "metadata": {
        "id": "ImA_X2Toetq7"
      }
    },
    {
      "cell_type": "markdown",
      "source": [
        "**Convolutions in Neural Networks — In a Nutshell:**\n",
        "\n",
        "* Use **filters** (small linear layers)\n",
        "* Slide these filters over the input sequence\n",
        "* Compute each layer fully before moving to the next\n",
        "\n",
        "  * Data is shared across all operations within the same layer\n",
        "* This makes the process **highly efficient**\n"
      ],
      "metadata": {
        "id": "kzKP5FArfvPi"
      }
    },
    {
      "cell_type": "markdown",
      "source": [
        "## Something about the model structure we use"
      ],
      "metadata": {
        "id": "IquCHzMlcT3r"
      }
    },
    {
      "cell_type": "markdown",
      "source": [
        "this is how we now create the flow of our model:\n",
        "\n",
        "```\n",
        "model = Sequential([\n",
        "    Embedding(vocab_size, n_embd),\n",
        "    # Layer 1\n",
        "    FlattenConsecutive(2),\n",
        "    Linear(n_embd * 2, n_hidden, bias = False),\n",
        "    BatchNorm1d(n_hidden),\n",
        "    # Layer 2\n",
        "    FlattenConsecutive(2),\n",
        "    Linear(n_hidden * 2, n_hidden, bias = False),\n",
        "    BatchNorm1d(n_hidden),\n",
        "    # Layer 3\n",
        "    FlattenConsecutive(2),\n",
        "    Linear(n_hidden * 2, n_hidden, bias = False),\n",
        "    BatchNorm1d(n_hidden),\n",
        "    Tanh(),\n",
        "    Linear(n_hidden, vocab_size),\n",
        "])\n",
        "```\n",
        "\n",
        "...we now use kind of Lego building blocks/ Modul building blocks\n",
        "\n"
      ],
      "metadata": {
        "id": "V-orzBAJcfJe"
      }
    },
    {
      "cell_type": "markdown",
      "source": [
        "What we also implemented is a sort of container for model: 'Sequential' and pytorchified our code a bit more.\n",
        "\n",
        "How it works in praxis: we use Torch.NN on top of Torch.Tensor"
      ],
      "metadata": {
        "id": "a8fvAYVhc_Bn"
      }
    },
    {
      "cell_type": "markdown",
      "source": [
        "## What we learned about the developing process of Building DNNs"
      ],
      "metadata": {
        "id": "qv8rJ2z5fGKm"
      }
    },
    {
      "cell_type": "markdown",
      "source": [
        "1. We spend a lot of time in the documentation of pytorch - looking through all the layers/ reading documentation. What are the shapes of the inputs/ what can they be/ What does the layer do...\n",
        "- but you need to know:\n",
        "  - the documentation is bad\n",
        "    - they lie to you\n",
        "    - things will be wrong/ incomplete\n",
        "    - it will be unclear\n",
        "2. Thers is a ton of trying to make the shapes work and there's a lot gymnastics around these multi-dimensional arrays (1 dim, 2 dim, ...)\n",
        "- is it NCL or NLC\n",
        "3. Youn can prototype layers (as we did) in notebooks and make sure that all the shapes work out\n",
        "- you take a lot of time babysitting the shapes (is everything correct?)\n",
        "- when saticfied with functionality of Colab Notebook then take the code and copy paste it in a repository\n",
        "- then in next step (or on the side) use VS Code\n",
        "4. This lecture unlocks a lot of potential for further lectures\n",
        "- we can convert our network to use 'dialated causal convolutional layers'\n",
        "- what are redidual connections and for what are they usefull?\n",
        "- right now we have no experimental harness\n",
        "  - normaly we would need to setup your evaluation harness\n",
        "  - you kick of experiments\n",
        "  - you have a lot of arguments that your script can take\n",
        "  - you look a lot on plots of training and validation losses\n",
        "    - what is working/ what is not working\n",
        "    - what is working on a specific population level\n",
        "    - you do hyperpayrameter searches\n",
        "5. We should cover Recurring Neural Networks, RNs, Lstm's, Grooves, Transormers\n"
      ],
      "metadata": {
        "id": "nwYVQOHQfLUF"
      }
    },
    {
      "cell_type": "markdown",
      "source": [
        "# Interesting exercise on this Colab"
      ],
      "metadata": {
        "id": "DJcMhh6ciiuZ"
      }
    },
    {
      "cell_type": "markdown",
      "source": [
        "Goal: Beat validation loss of 1.993\n",
        "\n",
        "Tuning options:\n",
        "- n_embd (embedding dimension)\n",
        "- Try a simpler network (e.g., single-layer) to outperform the hierarchical model\n",
        "- Read the WaveNet paper to understand and implement relevant layer structures\n",
        "- Tune initialization:\n",
        "  - Initial weights of the final layer\n",
        "  - batch_size"
      ],
      "metadata": {
        "id": "Mf_mty8aFKKz"
      }
    }
  ]
}